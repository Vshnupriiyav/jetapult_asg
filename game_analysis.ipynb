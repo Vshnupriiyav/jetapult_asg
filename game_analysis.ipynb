{
 "cells": [
  {
   "cell_type": "code",
   "execution_count": 30,
   "metadata": {},
   "outputs": [],
   "source": [
    "#import libraries\n",
    "import pandas as pd"
   ]
  },
  {
   "cell_type": "code",
   "execution_count": null,
   "metadata": {},
   "outputs": [],
   "source": [
    "df = pd.read_csv('jetapult_data.csv')"
   ]
  },
  {
   "cell_type": "code",
   "execution_count": null,
   "metadata": {},
   "outputs": [],
   "source": [
    "df['event_date'].unique()"
   ]
  },
  {
   "cell_type": "code",
   "execution_count": null,
   "metadata": {},
   "outputs": [],
   "source": [
    "df.info()"
   ]
  },
  {
   "cell_type": "code",
   "execution_count": null,
   "metadata": {},
   "outputs": [],
   "source": [
    "df.describe()"
   ]
  },
  {
   "cell_type": "code",
   "execution_count": null,
   "metadata": {},
   "outputs": [],
   "source": [
    "df['event_date'] = pd.to_datetime(df['event_date'], format='%d-%m-%Y')\n",
    "df['install_date'] = pd.to_datetime(df['install_date'], format='%d-%m-%Y')\n"
   ]
  },
  {
   "cell_type": "code",
   "execution_count": 53,
   "metadata": {},
   "outputs": [],
   "source": [
    "metrics = {\n",
    "    'event_counts': df['event_name'].value_counts(),\n",
    "    'average_level_time': df.groupby('level_number')['level_time'].mean(),\n",
    "    'total_revenue_by_pack': df[df['purchase_id'].notnull()].groupby('pack_type')['pack_price'].sum(),\n",
    "    'device_usage': df['device_brand'].value_counts(),\n",
    "    'pp':df['pack_price'].count() }"
   ]
  },
  {
   "cell_type": "code",
   "execution_count": 52,
   "metadata": {},
   "outputs": [
    {
     "name": "stdout",
     "output_type": "stream",
     "text": [
      "0.0\n"
     ]
    }
   ],
   "source": [
    "# print(metrics['event_counts'])\n",
    "# print(metrics['average_level_time'])            \n",
    "# print(metrics['total_revenue_by_pack'])            \n",
    "# print(metrics['device_usage'])\n",
    "print(metrics['pp'])\n"
   ]
  },
  {
   "cell_type": "code",
   "execution_count": null,
   "metadata": {},
   "outputs": [],
   "source": [
    "#average level time by device brand\n",
    "avg_level_time_by_device = df.groupby('device_brand')['level_time'].mean()\n",
    "print(avg_level_time_by_device)"
   ]
  },
  {
   "cell_type": "code",
   "execution_count": null,
   "metadata": {},
   "outputs": [],
   "source": [
    "# Revenue Generation by Country\n",
    "revenue_by_country = df[df['purchase_id'].notnull()].groupby('country')['pack_price'].sum()\n",
    "print(revenue_by_country)"
   ]
  },
  {
   "cell_type": "code",
   "execution_count": null,
   "metadata": {},
   "outputs": [],
   "source": [
    "user_retention = df[df['event_name'] == 'level_played'].groupby(df['install_date'].dt.to_period(\"M\"))['user_id'].nunique()\n",
    "print(\"\\nUser Retention Over Time:\\n\", user_retention)"
   ]
  },
  {
   "cell_type": "code",
   "execution_count": null,
   "metadata": {},
   "outputs": [],
   "source": [
    "purchase_frequency = df[df['purchase_id'].notnull()].groupby(df['event_date'])['purchase_id'].count()\n",
    "print(purchase_frequency)"
   ]
  },
  {
   "cell_type": "code",
   "execution_count": null,
   "metadata": {},
   "outputs": [],
   "source": [
    "avg_purchase_value_by_pack = df[df['purchase_id'].notnull()].groupby('pack_type')['pack_price'].mean()\n",
    "print(avg_purchase_value_by_pack)"
   ]
  },
  {
   "cell_type": "code",
   "execution_count": null,
   "metadata": {},
   "outputs": [],
   "source": [
    "level_completion_rate = df.groupby('level_number')['lvlcompstatus'].value_counts(normalize=True).unstack().fillna(0)\n",
    "print(level_completion_rate)"
   ]
  },
  {
   "cell_type": "code",
   "execution_count": null,
   "metadata": {},
   "outputs": [],
   "source": [
    "device_distribution_by_platform = df.groupby('platform')['device_brand'].value_counts()\n",
    "print(device_distribution_by_platform)"
   ]
  },
  {
   "cell_type": "code",
   "execution_count": null,
   "metadata": {},
   "outputs": [],
   "source": [
    "event_frequency_breakdown = df.groupby(['event_name', 'country']).size().unstack(fill_value=0)\n",
    "print(event_frequency_breakdown)"
   ]
  },
  {
   "cell_type": "code",
   "execution_count": null,
   "metadata": {},
   "outputs": [],
   "source": [
    "users_per_platform = df.groupby('platform')['user_id'].nunique()\n",
    "print( users_per_platform)"
   ]
  },
  {
   "cell_type": "code",
   "execution_count": 48,
   "metadata": {},
   "outputs": [
    {
     "name": "stdout",
     "output_type": "stream",
     "text": [
      "country\n",
      "United States    179.842169\n",
      "Name: level_time, dtype: float64\n"
     ]
    }
   ],
   "source": [
    "avg_level_time_by_country = df.groupby('country')['level_time'].mean()\n",
    "print(avg_level_time_by_country)"
   ]
  },
  {
   "cell_type": "markdown",
   "metadata": {},
   "source": [
    "This analysis helps understand the game in the eyes of data better. "
   ]
  }
 ],
 "metadata": {
  "kernelspec": {
   "display_name": "Python 3",
   "language": "python",
   "name": "python3"
  },
  "language_info": {
   "codemirror_mode": {
    "name": "ipython",
    "version": 3
   },
   "file_extension": ".py",
   "mimetype": "text/x-python",
   "name": "python",
   "nbconvert_exporter": "python",
   "pygments_lexer": "ipython3",
   "version": "3.13.0"
  }
 },
 "nbformat": 4,
 "nbformat_minor": 2
}
